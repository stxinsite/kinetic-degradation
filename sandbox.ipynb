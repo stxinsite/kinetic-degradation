{
 "cells": [
  {
   "cell_type": "code",
   "execution_count": 142,
   "metadata": {},
   "outputs": [],
   "source": [
    "import pandas as pd\n",
    "import matplotlib.pyplot as plt\n",
    "import seaborn as sns\n",
    "\n",
    "plt.rcParams[\"axes.labelsize\"] = 12\n",
    "plt.rcParams[\"axes.titlesize\"] = 15\n",
    "# plt.rcParams[\"figure.titlesize\"] = 20\n",
    "plt.rcParams[\"figure.figsize\"] = (3, 3)\n"
   ]
  },
  {
   "cell_type": "code",
   "execution_count": 131,
   "metadata": {},
   "outputs": [],
   "source": [
    "def argmin_alpha(df):\n",
    "    return (\n",
    "        df\n",
    "        .loc[(\n",
    "            df\n",
    "            .groupby('kdeg_Ternary')\n",
    "            .relative_target\n",
    "            .idxmin()\n",
    "        )]\n",
    "        .reset_index()\n",
    "        [['Kd_T_binary', 'kdeg_Ternary', 'alpha']]\n",
    "    )\n",
    "    "
   ]
  },
  {
   "cell_type": "markdown",
   "metadata": {},
   "source": [
    "### Plot A\n",
    "% Target vs alpha, at four different  k_{deg,Ternary} values: 0, 1/32 k_{deg, T}, 1/16 k_{deg,T}, and 1 k_{deg,T}, for K_{D, binary, T} = 0.05uM."
   ]
  },
  {
   "cell_type": "code",
   "execution_count": 191,
   "metadata": {},
   "outputs": [
    {
     "data": {
      "text/plain": [
       "(600, 3)"
      ]
     },
     "execution_count": 191,
     "metadata": {},
     "output_type": "execute_result"
    }
   ],
   "source": [
    "results = pd.read_csv(\"./saved_objects/ACBI1_t=6_kd=0.05_kdeg_ternary_vs_alpha.csv\")\n",
    "\n",
    "results_a = (\n",
    "    results\n",
    "    .loc[results.kdeg_Ternary.isin([0, 60/32, 60/64, 60])]\n",
    "    [['relative_target', 'alpha', 'kdeg_Ternary']]\n",
    "    .astype({'kdeg_Ternary': str})\n",
    ")\n",
    "\n",
    "results_a.shape"
   ]
  },
  {
   "cell_type": "code",
   "execution_count": 193,
   "metadata": {},
   "outputs": [
    {
     "data": {
      "image/png": "[encoded data removed]",
      "text/plain": [
       "<Figure size 216x216 with 1 Axes>"
      ]
     },
     "metadata": {},
     "output_type": "display_data"
    }
   ],
   "source": [
    "sns.set_style(\"whitegrid\")\n",
    "fig, ax = plt.subplots()\n",
    "p = sns.lineplot(\n",
    "    data=results_a,\n",
    "    x='alpha',\n",
    "    y='relative_target',\n",
    "    hue='kdeg_Ternary',\n",
    "    palette='rocket',\n",
    "    linewidth=1.25,\n",
    "    ax=ax\n",
    ")\n",
    "p.tick_params(labelsize=12)\n",
    "plt.xscale('log')\n",
    "plt.ylim(0, 120)\n",
    "plt.xlim(0.1, 1000)\n",
    "plt.ylabel('% Baseline Target Protein')\n",
    "plt.xlabel(r'Cooperativity $\\alpha$')\n",
    "\n",
    "# plt.xticks([0] + [2 ** i for i in range(-4, 7, 2)])\n",
    "# plt.yticks([10 ** i for i in range(-1, 4)])\n",
    "\n",
    "handles, labels = ax.get_legend_handles_labels()\n",
    "for i in range(4):\n",
    "    label_value = float(labels[i])\n",
    "    if label_value.is_integer():\n",
    "        label_value = int(label_value)\n",
    "    labels[i] = r'$k_{deg,Ternary} = $' + f'{label_value}/h'  \n",
    "    \n",
    "ax.legend(handles=handles, labels=labels, loc='upper left', borderaxespad=0.25)\n",
    "plt.setp(ax.get_legend().get_texts(), fontsize='8')  # for legend text\n",
    "\n",
    "plt.savefig(\"./plots/deg_vs_alpha_across_kdeg_ternary_kd=0.05.png\", bbox_inches='tight', dpi=1200)\n"
   ]
  },
  {
   "cell_type": "markdown",
   "metadata": {},
   "source": [
    "### Plot B\n",
    "Optimal alpha vs k_{deg,Ternary} at three different K_{D,binary,T} = 0.1, 0.05, 0.01 uM."
   ]
  },
  {
   "cell_type": "code",
   "execution_count": 196,
   "metadata": {},
   "outputs": [
    {
     "data": {
      "text/plain": [
       "(22, 4)"
      ]
     },
     "execution_count": 196,
     "metadata": {},
     "output_type": "execute_result"
    }
   ],
   "source": [
    "results = pd.concat(\n",
    "    [\n",
    "        argmin_alpha(pd.read_csv(\"./saved_objects/ACBI1_t=6_kd=0.1_kdeg_ternary_vs_alpha.csv\"))\n",
    "        ,argmin_alpha(pd.read_csv(\"./saved_objects/ACBI1_t=6_kd=0.05_kdeg_ternary_vs_alpha.csv\"))\n",
    "        ,argmin_alpha(pd.read_csv(\"./saved_objects/ACBI1_t=6_kd=0.01_kdeg_ternary_vs_alpha.csv\"))\n",
    "    ]\n",
    ")\n",
    "\n",
    "results_b = (\n",
    "    results\n",
    "    .assign(ratio_kdeg=results.kdeg_Ternary / 60)\n",
    "    .loc[results.alpha < 1000]\n",
    "    .astype({'Kd_T_binary': str})\n",
    ")\n",
    "results_b.shape"
   ]
  },
  {
   "cell_type": "code",
   "execution_count": 197,
   "metadata": {},
   "outputs": [
    {
     "data": {
      "text/plain": [
       "Index(['Kd_T_binary', 'kdeg_Ternary', 'alpha', 'ratio_kdeg'], dtype='object')"
      ]
     },
     "execution_count": 197,
     "metadata": {},
     "output_type": "execute_result"
    }
   ],
   "source": [
    "results_b.columns"
   ]
  },
  {
   "cell_type": "code",
   "execution_count": 198,
   "metadata": {},
   "outputs": [
    {
     "data": {
      "text/html": [
       "<div>\n",
       "<style scoped>\n",
       "    .dataframe tbody tr th:only-of-type {\n",
       "        vertical-align: middle;\n",
       "    }\n",
       "\n",
       "    .dataframe tbody tr th {\n",
       "        vertical-align: top;\n",
       "    }\n",
       "\n",
       "    .dataframe thead th {\n",
       "        text-align: right;\n",
       "    }\n",
       "</style>\n",
       "<table border=\"1\" class=\"dataframe\">\n",
       "  <thead>\n",
       "    <tr style=\"text-align: right;\">\n",
       "      <th></th>\n",
       "      <th>Kd_T_binary</th>\n",
       "      <th>kdeg_Ternary</th>\n",
       "      <th>alpha</th>\n",
       "    </tr>\n",
       "  </thead>\n",
       "  <tbody>\n",
       "    <tr>\n",
       "      <th>0</th>\n",
       "      <td>0.1</td>\n",
       "      <td>0.000000</td>\n",
       "      <td>1.717510</td>\n",
       "    </tr>\n",
       "    <tr>\n",
       "      <th>1</th>\n",
       "      <td>0.1</td>\n",
       "      <td>0.058594</td>\n",
       "      <td>1.717510</td>\n",
       "    </tr>\n",
       "    <tr>\n",
       "      <th>2</th>\n",
       "      <td>0.1</td>\n",
       "      <td>0.117188</td>\n",
       "      <td>1.717510</td>\n",
       "    </tr>\n",
       "    <tr>\n",
       "      <th>3</th>\n",
       "      <td>0.1</td>\n",
       "      <td>0.234375</td>\n",
       "      <td>1.827027</td>\n",
       "    </tr>\n",
       "    <tr>\n",
       "      <th>4</th>\n",
       "      <td>0.1</td>\n",
       "      <td>0.468750</td>\n",
       "      <td>1.943527</td>\n",
       "    </tr>\n",
       "  </tbody>\n",
       "</table>\n",
       "</div>"
      ],
      "text/plain": [
       "  Kd_T_binary  kdeg_Ternary     alpha\n",
       "0         0.1      0.000000  1.717510\n",
       "1         0.1      0.058594  1.717510\n",
       "2         0.1      0.117188  1.717510\n",
       "3         0.1      0.234375  1.827027\n",
       "4         0.1      0.468750  1.943527"
      ]
     },
     "execution_count": 198,
     "metadata": {},
     "output_type": "execute_result"
    }
   ],
   "source": [
    "(\n",
    "    results_b\n",
    "    [['Kd_T_binary', 'kdeg_Ternary', 'alpha']]\n",
    "    .head()\n",
    ")"
   ]
  },
  {
   "cell_type": "code",
   "execution_count": 214,
   "metadata": {},
   "outputs": [
    {
     "name": "stderr",
     "output_type": "stream",
     "text": [
      "The PostScript backend does not support transparency; partially transparent artists will be rendered opaque.\n"
     ]
    },
    {
     "data": {
      "image/png": "[encoded data removed]",
      "text/plain": [
       "<Figure size 216x216 with 1 Axes>"
      ]
     },
     "metadata": {},
     "output_type": "display_data"
    }
   ],
   "source": [
    "sns.set_style(\"whitegrid\")\n",
    "fig, ax = plt.subplots()\n",
    "p = sns.scatterplot(\n",
    "    data=results_b,\n",
    "    x='ratio_kdeg',\n",
    "    y='alpha',\n",
    "    hue='Kd_T_binary',\n",
    "    palette='tab10',\n",
    "    linewidth=1.25,\n",
    "    ax=ax\n",
    ")\n",
    "p.tick_params(labelsize=12)\n",
    "plt.xscale('symlog', base=2, linthresh=2**-10)\n",
    "plt.yscale('log')\n",
    "plt.xlim(-2**-11, 2)\n",
    "plt.ylim(0.1, 10**3.5)\n",
    "plt.ylabel(r'Optimal cooperativity ($\\alpha$)')\n",
    "plt.xlabel(r'$k_{deg,Ternary} / k_{deg,T}$')\n",
    "\n",
    "plt.xticks([0] + [(2 ** -i) for i in range(0, 11, 2)])\n",
    "plt.yticks([10 ** i for i in range(-1, 4)])\n",
    "\n",
    "handles, labels = ax.get_legend_handles_labels()\n",
    "for i in range(3):\n",
    "    kd = float(labels[i])\n",
    "    if kd.is_integer():\n",
    "        kd = int(kd)\n",
    "    labels[i] = fr\"$K_D = {kd}$ uM\"\n",
    "\n",
    "ax.legend(handles=handles, labels=labels,\n",
    "          loc='upper left', borderaxespad=0.25)\n",
    "\n",
    "ax.stem([(2 ** i )*0.9 for i in range(-4, 1)], [10**3 for _ in range(-4, 1)], linefmt='tab:blue', bottom=10**4, markerfmt=' ')\n",
    "ax.stem([(2 ** i ) for i in range(-4, 1)], [10**3 for _ in range(-4, 1)], linefmt='tab:orange', bottom=10**4, markerfmt=' ')\n",
    "ax.stem([(2 ** i )*1.1 for i in range(-3, 1)], [10**3 for _ in range(-3, 1)], linefmt='tab:green', bottom=10**4, markerfmt=' ')\n",
    "\n",
    "plt.setp(ax.get_legend().get_texts(), fontsize='8')  # for legend text\n",
    "\n",
    "plt.savefig(\"./plots/optimal_alpha_vs_kdeg_ternary_v2.eps\", bbox_inches='tight', dpi=1200)\n"
   ]
  }
 ],
 "metadata": {
  "kernelspec": {
   "display_name": "Python 3.10.4 64-bit ('kinetic-deg-venv')",
   "language": "python",
   "name": "python3"
  },
  "language_info": {
   "codemirror_mode": {
    "name": "ipython",
    "version": 3
   },
   "file_extension": ".py",
   "mimetype": "text/x-python",
   "name": "python",
   "nbconvert_exporter": "python",
   "pygments_lexer": "ipython3",
   "version": "3.10.4"
  },
  "orig_nbformat": 4,
  "vscode": {
   "interpreter": {
    "hash": "15169d970a7ce808f8c0e743db1888a007a0677c77f8893286004b8c1d02df92"
   }
  }
 },
 "nbformat": 4,
 "nbformat_minor": 2
}
